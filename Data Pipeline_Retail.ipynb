{
 "cells": [
  {
   "cell_type": "code",
   "execution_count": 56,
   "id": "c0d64ff1-a4ca-4a82-a8b4-e210244dedc1",
   "metadata": {
    "executionCancelledAt": null,
    "executionTime": 87,
    "lastExecutedAt": 1729836346460,
    "lastExecutedByKernel": "71e9b882-f697-4a04-ba33-e42a810b75d8",
    "lastScheduledRunId": null,
    "lastSuccessfullyExecutedCode": "import pandas as pd\nimport os\n\n# Create an extract function that reads and merges the two datasets \ndef extract(store_data, extra_data):\n    extra_df = pd.read_parquet(extra_data)\n    merged_df = store_data.merge(extra_df, on = \"index\")\n    return merged_df\n\n# Call the extract function\nmerged_df = extract(grocery_sales, \"extra_data.parquet\")"
   },
   "outputs": [],
   "source": [
    "import pandas as pd\n",
    "import os\n",
    "from sqlalchemy import create_engine\n",
    "\n",
    "# PostgreSQL connection URL (to be updated)\n",
    "db_connection_string = \"################################\"\n",
    "\n",
    "# Create an extract function that reads and merges the two datasets \n",
    "def extract(extra_data, store_data, db_connection_string):\n",
    "    extra_df = pd.read_parquet(extra_data)\n",
    "    \n",
    "    engine = create_engine(db_connection_string)\n",
    "    with engine.connect() as connection:\n",
    "        query = \"SELECT * FROM grocery_sales\"\n",
    "        store_data = pd.read_sql(query, connection)\n",
    "    \n",
    "    merged_df = store_data.merge(extra_df, on = \"index\")\n",
    "    return merged_df\n",
    "\n",
    "# Call the extract function\n",
    "merged_df = extract(\"extra_data.parquet\", grocery_sales, db_connection_string)"
   ]
  },
  {
   "cell_type": "code",
   "execution_count": 57,
   "id": "b01054d5-a1a8-442e-a011-827075998380",
   "metadata": {
    "executionCancelledAt": null,
    "executionTime": 59,
    "lastExecutedAt": 1729836346519,
    "lastExecutedByKernel": "71e9b882-f697-4a04-ba33-e42a810b75d8",
    "lastScheduledRunId": null,
    "lastSuccessfullyExecutedCode": "# Check head of the merged dataset\nmerged_df.head()",
    "outputsMetadata": {
     "0": {
      "height": 239,
      "type": "dataFrame"
     }
    }
   },
   "outputs": [
    {
     "data": {
      "application/com.datacamp.data-table.v2+json": {
       "table": {
        "data": {
         "CPI": [
          211.0963582,
          211.0963582,
          211.0963582,
          211.0963582,
          211.0963582
         ],
         "Date": [
          "2010-02-05T00:00:00.000",
          "2010-02-05T00:00:00.000",
          "2010-02-05T00:00:00.000",
          "2010-02-05T00:00:00.000",
          "2010-02-05T00:00:00.000"
         ],
         "Dept": [
          1,
          26,
          17,
          45,
          28
         ],
         "Fuel_Price": [
          2.572,
          2.572,
          2.572,
          2.572,
          2.572
         ],
         "IsHoliday": [
          0,
          0,
          0,
          0,
          0
         ],
         "MarkDown1": [
          0,
          0,
          0,
          0,
          0
         ],
         "MarkDown2": [
          0,
          0,
          0,
          0,
          0
         ],
         "MarkDown3": [
          0,
          0,
          0,
          0,
          0
         ],
         "MarkDown4": [
          0,
          0,
          0,
          0,
          0
         ],
         "MarkDown5": [
          0,
          0,
          0,
          0,
          0
         ],
         "Size": [
          151315,
          151315,
          151315,
          151315,
          151315
         ],
         "Store_ID": [
          1,
          1,
          1,
          1,
          1
         ],
         "Temperature": [
          42.31,
          42.31,
          42.31,
          42.31,
          42.31
         ],
         "Type": [
          3,
          3,
          3,
          3,
          3
         ],
         "Unemployment": [
          8.106,
          8.106,
          8.106,
          null,
          null
         ],
         "Weekly_Sales": [
          24924.5,
          11737.12,
          13223.76,
          37.44,
          1085.29
         ],
         "index": [
          0,
          1,
          2,
          3,
          4
         ],
         "level_0": [
          0,
          1,
          2,
          3,
          4
         ]
        },
        "schema": {
         "fields": [
          {
           "name": "level_0",
           "type": "integer"
          },
          {
           "name": "index",
           "type": "integer"
          },
          {
           "name": "Store_ID",
           "type": "integer"
          },
          {
           "name": "Date",
           "type": "datetime"
          },
          {
           "name": "Dept",
           "type": "integer"
          },
          {
           "name": "Weekly_Sales",
           "type": "number"
          },
          {
           "name": "IsHoliday",
           "type": "integer"
          },
          {
           "name": "Temperature",
           "type": "number"
          },
          {
           "name": "Fuel_Price",
           "type": "number"
          },
          {
           "name": "MarkDown1",
           "type": "number"
          },
          {
           "name": "MarkDown2",
           "type": "number"
          },
          {
           "name": "MarkDown3",
           "type": "number"
          },
          {
           "name": "MarkDown4",
           "type": "number"
          },
          {
           "name": "MarkDown5",
           "type": "number"
          },
          {
           "name": "CPI",
           "type": "number"
          },
          {
           "name": "Unemployment",
           "type": "number"
          },
          {
           "name": "Type",
           "type": "number"
          },
          {
           "name": "Size",
           "type": "number"
          }
         ],
         "pandas_version": "1.4.0",
         "primaryKey": [
          "level_0"
         ]
        }
       },
       "total_rows": 5,
       "truncation_type": null
      },
      "text/html": [
       "<div>\n",
       "<style scoped>\n",
       "    .dataframe tbody tr th:only-of-type {\n",
       "        vertical-align: middle;\n",
       "    }\n",
       "\n",
       "    .dataframe tbody tr th {\n",
       "        vertical-align: top;\n",
       "    }\n",
       "\n",
       "    .dataframe thead th {\n",
       "        text-align: right;\n",
       "    }\n",
       "</style>\n",
       "<table border=\"1\" class=\"dataframe\">\n",
       "  <thead>\n",
       "    <tr style=\"text-align: right;\">\n",
       "      <th></th>\n",
       "      <th>index</th>\n",
       "      <th>Store_ID</th>\n",
       "      <th>Date</th>\n",
       "      <th>Dept</th>\n",
       "      <th>Weekly_Sales</th>\n",
       "      <th>IsHoliday</th>\n",
       "      <th>Temperature</th>\n",
       "      <th>Fuel_Price</th>\n",
       "      <th>MarkDown1</th>\n",
       "      <th>MarkDown2</th>\n",
       "      <th>MarkDown3</th>\n",
       "      <th>MarkDown4</th>\n",
       "      <th>MarkDown5</th>\n",
       "      <th>CPI</th>\n",
       "      <th>Unemployment</th>\n",
       "      <th>Type</th>\n",
       "      <th>Size</th>\n",
       "    </tr>\n",
       "  </thead>\n",
       "  <tbody>\n",
       "    <tr>\n",
       "      <th>0</th>\n",
       "      <td>0</td>\n",
       "      <td>1</td>\n",
       "      <td>2010-02-05</td>\n",
       "      <td>1</td>\n",
       "      <td>24924.50</td>\n",
       "      <td>0</td>\n",
       "      <td>42.31</td>\n",
       "      <td>2.572</td>\n",
       "      <td>0.0</td>\n",
       "      <td>0.0</td>\n",
       "      <td>0.0</td>\n",
       "      <td>0.0</td>\n",
       "      <td>0.0</td>\n",
       "      <td>211.096358</td>\n",
       "      <td>8.106</td>\n",
       "      <td>3.0</td>\n",
       "      <td>151315.0</td>\n",
       "    </tr>\n",
       "    <tr>\n",
       "      <th>1</th>\n",
       "      <td>1</td>\n",
       "      <td>1</td>\n",
       "      <td>2010-02-05</td>\n",
       "      <td>26</td>\n",
       "      <td>11737.12</td>\n",
       "      <td>0</td>\n",
       "      <td>42.31</td>\n",
       "      <td>2.572</td>\n",
       "      <td>0.0</td>\n",
       "      <td>0.0</td>\n",
       "      <td>0.0</td>\n",
       "      <td>0.0</td>\n",
       "      <td>0.0</td>\n",
       "      <td>211.096358</td>\n",
       "      <td>8.106</td>\n",
       "      <td>3.0</td>\n",
       "      <td>151315.0</td>\n",
       "    </tr>\n",
       "    <tr>\n",
       "      <th>2</th>\n",
       "      <td>2</td>\n",
       "      <td>1</td>\n",
       "      <td>2010-02-05</td>\n",
       "      <td>17</td>\n",
       "      <td>13223.76</td>\n",
       "      <td>0</td>\n",
       "      <td>42.31</td>\n",
       "      <td>2.572</td>\n",
       "      <td>0.0</td>\n",
       "      <td>0.0</td>\n",
       "      <td>0.0</td>\n",
       "      <td>0.0</td>\n",
       "      <td>0.0</td>\n",
       "      <td>211.096358</td>\n",
       "      <td>8.106</td>\n",
       "      <td>3.0</td>\n",
       "      <td>151315.0</td>\n",
       "    </tr>\n",
       "    <tr>\n",
       "      <th>3</th>\n",
       "      <td>3</td>\n",
       "      <td>1</td>\n",
       "      <td>2010-02-05</td>\n",
       "      <td>45</td>\n",
       "      <td>37.44</td>\n",
       "      <td>0</td>\n",
       "      <td>42.31</td>\n",
       "      <td>2.572</td>\n",
       "      <td>0.0</td>\n",
       "      <td>0.0</td>\n",
       "      <td>0.0</td>\n",
       "      <td>0.0</td>\n",
       "      <td>0.0</td>\n",
       "      <td>211.096358</td>\n",
       "      <td>NaN</td>\n",
       "      <td>3.0</td>\n",
       "      <td>151315.0</td>\n",
       "    </tr>\n",
       "    <tr>\n",
       "      <th>4</th>\n",
       "      <td>4</td>\n",
       "      <td>1</td>\n",
       "      <td>2010-02-05</td>\n",
       "      <td>28</td>\n",
       "      <td>1085.29</td>\n",
       "      <td>0</td>\n",
       "      <td>42.31</td>\n",
       "      <td>2.572</td>\n",
       "      <td>0.0</td>\n",
       "      <td>0.0</td>\n",
       "      <td>0.0</td>\n",
       "      <td>0.0</td>\n",
       "      <td>0.0</td>\n",
       "      <td>211.096358</td>\n",
       "      <td>NaN</td>\n",
       "      <td>3.0</td>\n",
       "      <td>151315.0</td>\n",
       "    </tr>\n",
       "  </tbody>\n",
       "</table>\n",
       "</div>"
      ],
      "text/plain": [
       "   index  Store_ID       Date  Dept  ...         CPI  Unemployment  Type      Size\n",
       "0      0         1 2010-02-05     1  ...  211.096358         8.106   3.0  151315.0\n",
       "1      1         1 2010-02-05    26  ...  211.096358         8.106   3.0  151315.0\n",
       "2      2         1 2010-02-05    17  ...  211.096358         8.106   3.0  151315.0\n",
       "3      3         1 2010-02-05    45  ...  211.096358           NaN   3.0  151315.0\n",
       "4      4         1 2010-02-05    28  ...  211.096358           NaN   3.0  151315.0\n",
       "\n",
       "[5 rows x 17 columns]"
      ]
     },
     "execution_count": 57,
     "metadata": {},
     "output_type": "execute_result"
    }
   ],
   "source": [
    "# Check head of the merged dataset\n",
    "merged_df.head()"
   ]
  },
  {
   "cell_type": "code",
   "execution_count": 58,
   "id": "136fb234-dbc0-4bcd-aa3d-a26c18283d31",
   "metadata": {
    "executionCancelledAt": null,
    "executionTime": 49,
    "lastExecutedAt": 1729836346568,
    "lastExecutedByKernel": "71e9b882-f697-4a04-ba33-e42a810b75d8",
    "lastScheduledRunId": null,
    "lastSuccessfullyExecutedCode": "# Check data types\nmerged_df.info()",
    "outputsMetadata": {
     "0": {
      "height": 521,
      "type": "stream"
     }
    }
   },
   "outputs": [
    {
     "name": "stdout",
     "output_type": "stream",
     "text": [
      "<class 'pandas.core.frame.DataFrame'>\n",
      "Int64Index: 231522 entries, 0 to 231521\n",
      "Data columns (total 17 columns):\n",
      " #   Column        Non-Null Count   Dtype         \n",
      "---  ------        --------------   -----         \n",
      " 0   index         231522 non-null  int64         \n",
      " 1   Store_ID      231522 non-null  int64         \n",
      " 2   Date          231483 non-null  datetime64[ns]\n",
      " 3   Dept          231522 non-null  int64         \n",
      " 4   Weekly_Sales  231484 non-null  float64       \n",
      " 5   IsHoliday     231522 non-null  int64         \n",
      " 6   Temperature   231522 non-null  float64       \n",
      " 7   Fuel_Price    231522 non-null  float64       \n",
      " 8   MarkDown1     231522 non-null  float64       \n",
      " 9   MarkDown2     231522 non-null  float64       \n",
      " 10  MarkDown3     231522 non-null  float64       \n",
      " 11  MarkDown4     231521 non-null  float64       \n",
      " 12  MarkDown5     231521 non-null  float64       \n",
      " 13  CPI           231475 non-null  float64       \n",
      " 14  Unemployment  231485 non-null  float64       \n",
      " 15  Type          231521 non-null  float64       \n",
      " 16  Size          231521 non-null  float64       \n",
      "dtypes: datetime64[ns](1), float64(12), int64(4)\n",
      "memory usage: 31.8 MB\n"
     ]
    }
   ],
   "source": [
    "# Check data types\n",
    "merged_df.info()"
   ]
  },
  {
   "cell_type": "code",
   "execution_count": 59,
   "id": "98b40b47-834f-4969-9e56-b0c1570e7749",
   "metadata": {
    "executionCancelledAt": null,
    "executionTime": 47,
    "lastExecutedAt": 1729836346615,
    "lastExecutedByKernel": "71e9b882-f697-4a04-ba33-e42a810b75d8",
    "lastScheduledRunId": null,
    "lastSuccessfullyExecutedCode": "# Check missing values\nmerged_df.isna().sum()",
    "outputsMetadata": {
     "0": {
      "height": 543,
      "type": "dataFrame"
     }
    }
   },
   "outputs": [
    {
     "data": {
      "application/com.datacamp.data-table.v2+json": {
       "table": {
        "data": {
         "0": [
          0,
          0,
          39,
          0,
          38,
          0,
          0,
          0,
          0,
          0,
          0,
          1,
          1,
          47,
          37,
          1,
          1
         ],
         "index": [
          "index",
          "Store_ID",
          "Date",
          "Dept",
          "Weekly_Sales",
          "IsHoliday",
          "Temperature",
          "Fuel_Price",
          "MarkDown1",
          "MarkDown2",
          "MarkDown3",
          "MarkDown4",
          "MarkDown5",
          "CPI",
          "Unemployment",
          "Type",
          "Size"
         ]
        },
        "schema": {
         "fields": [
          {
           "name": "index",
           "type": "string"
          },
          {
           "name": "0",
           "type": "integer"
          }
         ],
         "pandas_version": "1.4.0",
         "primaryKey": [
          "index"
         ]
        }
       },
       "total_rows": 17,
       "truncation_type": null
      },
      "text/plain": [
       "index            0\n",
       "Store_ID         0\n",
       "Date            39\n",
       "Dept             0\n",
       "Weekly_Sales    38\n",
       "IsHoliday        0\n",
       "Temperature      0\n",
       "Fuel_Price       0\n",
       "MarkDown1        0\n",
       "MarkDown2        0\n",
       "MarkDown3        0\n",
       "MarkDown4        1\n",
       "MarkDown5        1\n",
       "CPI             47\n",
       "Unemployment    37\n",
       "Type             1\n",
       "Size             1\n",
       "dtype: int64"
      ]
     },
     "execution_count": 59,
     "metadata": {},
     "output_type": "execute_result"
    }
   ],
   "source": [
    "# Check missing values\n",
    "merged_df.isna().sum()"
   ]
  },
  {
   "cell_type": "code",
   "execution_count": 60,
   "id": "ded709ff-d7ab-44bc-acbf-9ff32f186b16",
   "metadata": {
    "executionCancelledAt": null,
    "executionTime": 52,
    "lastExecutedAt": 1729836346667,
    "lastExecutedByKernel": "71e9b882-f697-4a04-ba33-e42a810b75d8",
    "lastScheduledRunId": null,
    "lastSuccessfullyExecutedCode": "# Check if missing values in 'Date' column are randomly distributed\nmerged_df[merged_df['Date'].isnull()].index"
   },
   "outputs": [
    {
     "data": {
      "text/plain": [
       "Int64Index([  16,   17,   18,   19,   20,   76,   77,   78,   79,   80,   81,\n",
       "              82,  658,  659,  660,  661,  662,  663,  664,  665,  666, 2548,\n",
       "            2549, 2550, 2551, 2552, 2553, 2554, 2555, 2556, 3916, 3917, 3918,\n",
       "            3919, 3920, 3921, 3922, 3923, 3924],\n",
       "           dtype='int64')"
      ]
     },
     "execution_count": 60,
     "metadata": {},
     "output_type": "execute_result"
    }
   ],
   "source": [
    "# Check if missing values in 'Date' column are randomly distributed\n",
    "merged_df[merged_df['Date'].isnull()].index"
   ]
  },
  {
   "cell_type": "code",
   "execution_count": 61,
   "id": "6d3c25e2-e7d8-4c33-9be0-d45f03b2cf43",
   "metadata": {
    "executionCancelledAt": null,
    "executionTime": 56,
    "lastExecutedAt": 1729836346723,
    "lastExecutedByKernel": "71e9b882-f697-4a04-ba33-e42a810b75d8",
    "lastScheduledRunId": null,
    "lastSuccessfullyExecutedCode": "# Create a transform function that replaces missing values and subsets the dataframe\ndef transform(raw_data):\n    raw_data['Date'] = raw_data['Date'].fillna(method='ffill')\n    raw_data.fillna(\n        {\n            'Weekly_Sales': raw_data['Weekly_Sales'].mean(),\n            'CPI': raw_data['CPI'].mean(),\n            'Unemployment': raw_data['Unemployment'].mean()\n        }, inplace = True\n    )\n    raw_data['Month'] = raw_data['Date'].dt.month\n    raw_data = raw_data.loc[\n        raw_data['Weekly_Sales'] > 10000,\n        ['Store_ID', 'Dept', 'Month', 'Weekly_Sales', 'IsHoliday', 'CPI', 'Unemployment']\n    ]\n    return raw_data\n\n# Call the transform function on the merged dataset\nclean_data = transform(merged_df)"
   },
   "outputs": [],
   "source": [
    "# Create a transform function that replaces missing values and subsets the dataframe\n",
    "def transform(raw_data):\n",
    "    raw_data['Date'] = raw_data['Date'].fillna(method='ffill')\n",
    "    raw_data.fillna(\n",
    "        {\n",
    "            'Weekly_Sales': raw_data['Weekly_Sales'].mean(),\n",
    "            'CPI': raw_data['CPI'].mean(),\n",
    "            'Unemployment': raw_data['Unemployment'].mean()\n",
    "        }, inplace = True\n",
    "    )\n",
    "    raw_data['Month'] = raw_data['Date'].dt.month\n",
    "    raw_data = raw_data.loc[\n",
    "        raw_data['Weekly_Sales'] > 10000,\n",
    "        ['Store_ID', 'Dept', 'Month', 'Weekly_Sales', 'IsHoliday', 'CPI', 'Unemployment']\n",
    "    ]\n",
    "    return raw_data\n",
    "\n",
    "# Call the transform function on the merged dataset\n",
    "clean_data = transform(merged_df)"
   ]
  },
  {
   "cell_type": "code",
   "execution_count": 62,
   "id": "de24ed78-10bd-46be-a397-48e0784ba8fe",
   "metadata": {
    "executionCancelledAt": null,
    "executionTime": 62,
    "lastExecutedAt": 1729836346785,
    "lastExecutedByKernel": "71e9b882-f697-4a04-ba33-e42a810b75d8",
    "lastScheduledRunId": null,
    "lastSuccessfullyExecutedCode": "# Check the head of the transformed dataframe\nclean_data.head()",
    "outputsMetadata": {
     "0": {
      "height": 239,
      "type": "dataFrame"
     }
    }
   },
   "outputs": [
    {
     "data": {
      "application/com.datacamp.data-table.v2+json": {
       "table": {
        "data": {
         "CPI": [
          211.0963582,
          211.0963582,
          211.0963582,
          211.0963582,
          211.0963582
         ],
         "Dept": [
          1,
          26,
          17,
          79,
          55
         ],
         "IsHoliday": [
          0,
          0,
          0,
          0,
          0
         ],
         "Month": [
          2,
          2,
          2,
          2,
          2
         ],
         "Store_ID": [
          1,
          1,
          1,
          1,
          1
         ],
         "Unemployment": [
          8.106,
          8.106,
          8.106,
          7.5000522323,
          7.5000522323
         ],
         "Weekly_Sales": [
          24924.5,
          11737.12,
          13223.76,
          46729.77,
          21249.31
         ],
         "index": [
          0,
          1,
          2,
          5,
          6
         ]
        },
        "schema": {
         "fields": [
          {
           "name": "index",
           "type": "integer"
          },
          {
           "name": "Store_ID",
           "type": "integer"
          },
          {
           "name": "Dept",
           "type": "integer"
          },
          {
           "name": "Month",
           "type": "integer"
          },
          {
           "name": "Weekly_Sales",
           "type": "number"
          },
          {
           "name": "IsHoliday",
           "type": "integer"
          },
          {
           "name": "CPI",
           "type": "number"
          },
          {
           "name": "Unemployment",
           "type": "number"
          }
         ],
         "pandas_version": "1.4.0",
         "primaryKey": [
          "index"
         ]
        }
       },
       "total_rows": 5,
       "truncation_type": null
      },
      "text/html": [
       "<div>\n",
       "<style scoped>\n",
       "    .dataframe tbody tr th:only-of-type {\n",
       "        vertical-align: middle;\n",
       "    }\n",
       "\n",
       "    .dataframe tbody tr th {\n",
       "        vertical-align: top;\n",
       "    }\n",
       "\n",
       "    .dataframe thead th {\n",
       "        text-align: right;\n",
       "    }\n",
       "</style>\n",
       "<table border=\"1\" class=\"dataframe\">\n",
       "  <thead>\n",
       "    <tr style=\"text-align: right;\">\n",
       "      <th></th>\n",
       "      <th>Store_ID</th>\n",
       "      <th>Dept</th>\n",
       "      <th>Month</th>\n",
       "      <th>Weekly_Sales</th>\n",
       "      <th>IsHoliday</th>\n",
       "      <th>CPI</th>\n",
       "      <th>Unemployment</th>\n",
       "    </tr>\n",
       "  </thead>\n",
       "  <tbody>\n",
       "    <tr>\n",
       "      <th>0</th>\n",
       "      <td>1</td>\n",
       "      <td>1</td>\n",
       "      <td>2</td>\n",
       "      <td>24924.50</td>\n",
       "      <td>0</td>\n",
       "      <td>211.096358</td>\n",
       "      <td>8.106000</td>\n",
       "    </tr>\n",
       "    <tr>\n",
       "      <th>1</th>\n",
       "      <td>1</td>\n",
       "      <td>26</td>\n",
       "      <td>2</td>\n",
       "      <td>11737.12</td>\n",
       "      <td>0</td>\n",
       "      <td>211.096358</td>\n",
       "      <td>8.106000</td>\n",
       "    </tr>\n",
       "    <tr>\n",
       "      <th>2</th>\n",
       "      <td>1</td>\n",
       "      <td>17</td>\n",
       "      <td>2</td>\n",
       "      <td>13223.76</td>\n",
       "      <td>0</td>\n",
       "      <td>211.096358</td>\n",
       "      <td>8.106000</td>\n",
       "    </tr>\n",
       "    <tr>\n",
       "      <th>5</th>\n",
       "      <td>1</td>\n",
       "      <td>79</td>\n",
       "      <td>2</td>\n",
       "      <td>46729.77</td>\n",
       "      <td>0</td>\n",
       "      <td>211.096358</td>\n",
       "      <td>7.500052</td>\n",
       "    </tr>\n",
       "    <tr>\n",
       "      <th>6</th>\n",
       "      <td>1</td>\n",
       "      <td>55</td>\n",
       "      <td>2</td>\n",
       "      <td>21249.31</td>\n",
       "      <td>0</td>\n",
       "      <td>211.096358</td>\n",
       "      <td>7.500052</td>\n",
       "    </tr>\n",
       "  </tbody>\n",
       "</table>\n",
       "</div>"
      ],
      "text/plain": [
       "   Store_ID  Dept  Month  Weekly_Sales  IsHoliday         CPI  Unemployment\n",
       "0         1     1      2      24924.50          0  211.096358      8.106000\n",
       "1         1    26      2      11737.12          0  211.096358      8.106000\n",
       "2         1    17      2      13223.76          0  211.096358      8.106000\n",
       "5         1    79      2      46729.77          0  211.096358      7.500052\n",
       "6         1    55      2      21249.31          0  211.096358      7.500052"
      ]
     },
     "execution_count": 62,
     "metadata": {},
     "output_type": "execute_result"
    }
   ],
   "source": [
    "# Check the head of the transformed dataframe\n",
    "clean_data.head()"
   ]
  },
  {
   "cell_type": "code",
   "execution_count": 63,
   "id": "b19b15e3-6624-47a9-927f-d3f12fe8212d",
   "metadata": {
    "executionCancelledAt": null,
    "executionTime": 54,
    "lastExecutedAt": 1729836346839,
    "lastExecutedByKernel": "71e9b882-f697-4a04-ba33-e42a810b75d8",
    "lastScheduledRunId": null,
    "lastSuccessfullyExecutedCode": "# Create a function that calculates average weekly sales per month\ndef avg_weekly_sales_per_month(clean_data):\n    clean_data_sales = clean_data[['Month', 'Weekly_Sales']]\n    clean_data_sales = clean_data_sales.groupby(by='Month').agg(Avg_Sales=('Weekly_Sales', 'mean')).round(2)\n    clean_data_sales = clean_data_sales.reset_index()\n    return clean_data_sales\n\n# Call the avg_weekly_sales_per_month function on the transformed dataframe\nagg_data = avg_weekly_sales_per_month(clean_data)"
   },
   "outputs": [],
   "source": [
    "# Create a function that calculates average weekly sales per month\n",
    "def avg_weekly_sales_per_month(clean_data):\n",
    "    clean_data_sales = clean_data[['Month', 'Weekly_Sales']]\n",
    "    clean_data_sales = clean_data_sales.groupby(by='Month').agg(Avg_Sales=('Weekly_Sales', 'mean')).round(2)\n",
    "    clean_data_sales = clean_data_sales.reset_index()\n",
    "    return clean_data_sales\n",
    "\n",
    "# Call the avg_weekly_sales_per_month function on the transformed dataframe\n",
    "agg_data = avg_weekly_sales_per_month(clean_data)"
   ]
  },
  {
   "cell_type": "code",
   "execution_count": 64,
   "id": "921cb123-3153-4334-bdeb-9bb227fdc530",
   "metadata": {
    "executionCancelledAt": null,
    "executionTime": 377,
    "lastExecutedAt": 1729836347216,
    "lastExecutedByKernel": "71e9b882-f697-4a04-ba33-e42a810b75d8",
    "lastScheduledRunId": null,
    "lastSuccessfullyExecutedCode": "# Create a load that saves dataframes into specified paths \ndef load(full_data, full_data_file_path, agg_data, agg_data_file_path):\n    full_data.to_csv(full_data_file_path, index=False)\n    agg_data.to_csv(agg_data_file_path, index=False)\n    \n# Call the load function on the transformed and and monthly sales dataframes    \nload(clean_data, 'clean_data.csv', agg_data, 'agg_data.csv')"
   },
   "outputs": [],
   "source": [
    "# Create a load that saves dataframes into specified paths \n",
    "def load(full_data, full_data_file_path, agg_data, agg_data_file_path):\n",
    "    full_data.to_csv(full_data_file_path, index=False)\n",
    "    agg_data.to_csv(agg_data_file_path, index=False)\n",
    "    \n",
    "# Call the load function on the transformed and and monthly sales dataframes    \n",
    "load(clean_data, 'clean_data.csv', agg_data, 'agg_data.csv')"
   ]
  },
  {
   "cell_type": "code",
   "execution_count": 65,
   "id": "61b5f58a-70cb-40b3-bdbe-20b4079276e3",
   "metadata": {
    "executionCancelledAt": null,
    "executionTime": 49,
    "lastExecutedAt": 1729836347267,
    "lastExecutedByKernel": "71e9b882-f697-4a04-ba33-e42a810b75d8",
    "lastScheduledRunId": null,
    "lastSuccessfullyExecutedCode": "# Create a validation function that checks if the dataframes were saved on the working directory\ndef validation(file_path):\n    file_exists = os.path.exists(file_path)\n    if not file_exists:\n        raise Exception(f\"There is no file at path: {file_path}\")\n        \n# Call the validation function\nvalidation('clean_data.csv')\nvalidation('agg_data.csv')"
   },
   "outputs": [],
   "source": [
    "# Create a validation function that checks if the dataframes were saved on the working directory\n",
    "def validation(file_path):\n",
    "    file_exists = os.path.exists(file_path)\n",
    "    if not file_exists:\n",
    "        raise Exception(f\"There is no file at path: {file_path}\")\n",
    "        \n",
    "# Call the validation function\n",
    "validation('clean_data.csv')\n",
    "validation('agg_data.csv')"
   ]
  }
 ],
 "metadata": {
  "colab": {
   "name": "Welcome to DataCamp Workspaces.ipynb",
   "provenance": []
  },
  "editor": "DataLab",
  "kernelspec": {
   "display_name": "Python 3 (ipykernel)",
   "language": "python",
   "name": "python3"
  },
  "language_info": {
   "codemirror_mode": {
    "name": "ipython",
    "version": 3
   },
   "file_extension": ".py",
   "mimetype": "text/x-python",
   "name": "python",
   "nbconvert_exporter": "python",
   "pygments_lexer": "ipython3",
   "version": "3.11.5"
  }
 },
 "nbformat": 4,
 "nbformat_minor": 5
}
